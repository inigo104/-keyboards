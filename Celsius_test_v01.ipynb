{
  "nbformat": 4,
  "nbformat_minor": 0,
  "metadata": {
    "colab": {
      "provenance": [],
      "toc_visible": true,
      "authorship_tag": "ABX9TyNKEpuBeVv/BNuPt2fQ8p23",
      "include_colab_link": true
    },
    "kernelspec": {
      "name": "python3",
      "display_name": "Python 3"
    },
    "language_info": {
      "name": "python"
    }
  },
  "cells": [
    {
      "cell_type": "markdown",
      "metadata": {
        "id": "view-in-github",
        "colab_type": "text"
      },
      "source": [
        "<a href=\"https://colab.research.google.com/github/inigo104/-keyboards/blob/main/Celsius_test_v01.ipynb\" target=\"_parent\"><img src=\"https://colab.research.google.com/assets/colab-badge.svg\" alt=\"Open In Colab\"/></a>"
      ]
    },
    {
      "cell_type": "markdown",
      "source": [
        "\n",
        "\n",
        "\n",
        "---\n",
        "\n"
      ],
      "metadata": {
        "id": "NyHYBgLn7Frx"
      }
    },
    {
      "cell_type": "markdown",
      "source": [
        "\n",
        "# Intro\n",
        "\n",
        "Impoetar liberias\n",
        "\n",
        "- Cambiar **key_wb** por la del archivo datos de entrada"
      ],
      "metadata": {
        "id": "gobjBqtJInpJ"
      }
    },
    {
      "cell_type": "code",
      "source": [
        "from google.colab import auth\n",
        "auth.authenticate_user()\n",
        "\n",
        "import gspread\n",
        "from google.auth import default\n",
        "creds, _ = default()\n",
        "\n",
        "gc = gspread.authorize(creds)\n",
        "key_wb_input = '1Lq5WMQ-suWrBaqkGlPoyhkLNyLULFxY25sjCuXm-fuo'\n",
        "\n",
        "import pandas as pd"
      ],
      "metadata": {
        "id": "jcFqWPEFQwo-"
      },
      "execution_count": null,
      "outputs": []
    },
    {
      "cell_type": "markdown",
      "source": [
        "Importar datos"
      ],
      "metadata": {
        "id": "OXElBnNpSBvh"
      }
    },
    {
      "cell_type": "code",
      "source": [
        "worksheet = gc.open_by_key(key_wb_input).sheet1\n",
        "\n",
        "# get_all_values gives a list of rows.\n",
        "rows = worksheet.get_all_values()\n",
        "\n",
        "# Convert to a DataFrame and render.\n",
        "pd.DataFrame.from_records(rows)"
      ],
      "metadata": {
        "id": "yb2lZkcOJUTB"
      },
      "execution_count": null,
      "outputs": []
    },
    {
      "cell_type": "markdown",
      "source": [
        "# Tranformación\n",
        "\n",
        "Limpieza"
      ],
      "metadata": {
        "id": "PlixSG8RS4WI"
      }
    },
    {
      "cell_type": "code",
      "source": [],
      "metadata": {
        "id": "vR6qfTsUTAtM"
      },
      "execution_count": null,
      "outputs": []
    },
    {
      "cell_type": "markdown",
      "source": [
        "Salida documento parcial:\n",
        "Completar orgines(llegada)/destinos(Salida)\n",
        "\n",
        "Numero de acompañantes"
      ],
      "metadata": {
        "id": "j5MsaOoLTVr_"
      }
    },
    {
      "cell_type": "code",
      "source": [
        "#quizas mejor actualizar\n",
        "#sh = gc.create('A new spreadsheet')\n",
        "\n",
        "# Open our new sheet and add some data.\n",
        "workbook = gc.open('A new spreadsheet')"
      ],
      "metadata": {
        "id": "Ps5GLnNwU_OJ"
      },
      "execution_count": null,
      "outputs": []
    },
    {
      "cell_type": "markdown",
      "source": [
        "Tranformación en si"
      ],
      "metadata": {
        "id": "cTog7OiHVBf1"
      }
    },
    {
      "cell_type": "code",
      "source": [],
      "metadata": {
        "id": "FMZMeXsxTWHP"
      },
      "execution_count": null,
      "outputs": []
    },
    {
      "cell_type": "markdown",
      "source": [
        "# Resultado"
      ],
      "metadata": {
        "id": "vPmIcxDvJnhC"
      }
    },
    {
      "cell_type": "code",
      "source": [
        "#quizas mejor actualizar\n",
        "#sh = gc.create('A new spreadsheet')\n",
        "\n",
        "# Open our new sheet and add some data.\n",
        "#workbook = gc.open('A new spreadsheet')\n",
        "\n",
        "\n",
        "\n"
      ],
      "metadata": {
        "id": "sWTpji1bJUza"
      },
      "execution_count": null,
      "outputs": []
    },
    {
      "cell_type": "code",
      "source": [],
      "metadata": {
        "id": "OzfVUHa8VWjx"
      },
      "execution_count": null,
      "outputs": []
    }
  ]
}